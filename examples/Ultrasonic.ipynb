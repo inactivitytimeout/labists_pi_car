{
 "cells": [
  {
   "cell_type": "markdown",
   "id": "5fee41a1",
   "metadata": {},
   "source": [
    "Copyright 2021, https://github.com/inactivitytimeout\n",
    "\n",
    "This program is free software: you can redistribute it and/or modify\n",
    "it under the terms of the GNU General Public License as published by\n",
    "the Free Software Foundation, either version 3 of the License, or\n",
    "(at your option) any later version.\n",
    "\n",
    "This program is distributed in the hope that it will be useful,\n",
    "but WITHOUT ANY WARRANTY; without even the implied warranty of\n",
    "MERCHANTABILITY or FITNESS FOR A PARTICULAR PURPOSE.  See the\n",
    "GNU General Public License for more details.\n",
    "\n",
    "You should have received a copy of the GNU General Public License\n",
    "along with this program.  If not, see <https://www.gnu.org/licenses/>."
   ]
  },
  {
   "cell_type": "markdown",
   "id": "b32bab17",
   "metadata": {},
   "source": [
    "# Ultrasonic Range Sensor Example\n",
    "\n",
    "This notebook demonstrates how to read the ultrasonic sensor and return the distance to a target in inches.\n",
    "\n",
    "This can be combined with motor control to avoid obstacles.\n",
    "\n",
    "Lots of internet guides are available with details about the HC-SR04 Ultrasonic Range Sensor. A quick google search will bring up lots of tutorials and reference guides if you need more information."
   ]
  },
  {
   "cell_type": "markdown",
   "id": "6cf371fa",
   "metadata": {},
   "source": [
    "![](./assets/ultrasonic_block_diagram.png)"
   ]
  },
  {
   "cell_type": "code",
   "execution_count": 1,
   "id": "75d6765f",
   "metadata": {},
   "outputs": [],
   "source": [
    "import RPi.GPIO as GPIO\n",
    "import time"
   ]
  },
  {
   "cell_type": "code",
   "execution_count": 2,
   "id": "776c5627",
   "metadata": {},
   "outputs": [],
   "source": [
    "# Uncomment to silence channel already in use warning\n",
    "# GPIO.setwarnings(False)\n",
    "\n",
    "# GPIO.BCM specifiesBroadcom chip pin numbers. \n",
    "GPIO.setmode(GPIO.BCM)\n",
    "\n",
    "GPIO_ECHO = 5   # INPUT\n",
    "GPIO_TRIG = 6   # OUTPUT"
   ]
  },
  {
   "cell_type": "code",
   "execution_count": 3,
   "id": "ebb35054",
   "metadata": {},
   "outputs": [],
   "source": [
    "# Set up the OUTPUT pin. This transmits a trigger pulse.\n",
    "GPIO.setup(GPIO_TRIG, GPIO.OUT, initial=1)\n",
    "GPIO.output(GPIO_TRIG,1)\n",
    "time.sleep(0.01)\n",
    "GPIO.output(GPIO_TRIG,0)\n",
    "time.sleep(0.01)"
   ]
  },
  {
   "cell_type": "code",
   "execution_count": 4,
   "id": "85ceb2f7",
   "metadata": {},
   "outputs": [],
   "source": [
    "# Set up the INPUT pin. This listens for the return \"echo\"\n",
    "GPIO.setup(GPIO_ECHO, GPIO.IN)"
   ]
  },
  {
   "cell_type": "code",
   "execution_count": 5,
   "id": "af0983d2",
   "metadata": {},
   "outputs": [
    {
     "name": "stdout",
     "output_type": "stream",
     "text": [
      "Object distance: 38.5 inches\n",
      "Object distance: 38.5 inches\n",
      "Object distance: 38.7 inches\n",
      "Object distance: 38.9 inches\n",
      "Object distance: 38.7 inches\n",
      "Object distance: 38.9 inches\n",
      "Object distance: 38.5 inches\n",
      "Object distance: 38.7 inches\n",
      "Object distance: 38.9 inches\n",
      "Object distance: 38.9 inches\n"
     ]
    }
   ],
   "source": [
    "#      TRIG PULSE\n",
    "#      <------>\n",
    "#   \n",
    "#      +------+\n",
    "#      |      |\n",
    "#      |      |\n",
    "# -----+      +----------\n",
    "# \n",
    "#      |<-->|  This is the time it takes to \"hear\" an echo (hit object and back) \n",
    "#\n",
    "#\n",
    "#           ECHO PULSE\n",
    "#           +------+\n",
    "#           |      |\n",
    "#           |      |\n",
    "# ----------+      +-----\n",
    "\n",
    "SPEED_OF_SOUND_INCHES_PER_SEC = 1125.3 * 12.0\n",
    "\n",
    "for i in range(10):\n",
    "    pulse_start = None\n",
    "    pulse_end = None\n",
    "    pulse_width = 0.0\n",
    "\n",
    "    time.sleep(0.00001)\n",
    "    GPIO.output(GPIO_TRIG, 1)\n",
    "    time.sleep(0.00001)\n",
    "    GPIO.output(GPIO_TRIG, 0)\n",
    "\n",
    "    while GPIO.input(GPIO_ECHO) == 0:\n",
    "        pulse_start = time.time()\n",
    "\n",
    "    if pulse_start:\n",
    "        while GPIO.input(GPIO_ECHO) == 1:\n",
    "            pulse_end = time.time()\n",
    "\n",
    "        pulse_width = pulse_end - pulse_start\n",
    "        distance = (pulse_width / 2.0) * SPEED_OF_SOUND_INCHES_PER_SEC\n",
    "                \n",
    "    print(f\"Object distance: {distance:0.1f} inches\")"
   ]
  },
  {
   "cell_type": "code",
   "execution_count": 6,
   "id": "56bfd332",
   "metadata": {},
   "outputs": [],
   "source": [
    "GPIO.cleanup()"
   ]
  }
 ],
 "metadata": {
  "kernelspec": {
   "display_name": "Python 3 (ipykernel)",
   "language": "python",
   "name": "python3"
  },
  "language_info": {
   "codemirror_mode": {
    "name": "ipython",
    "version": 3
   },
   "file_extension": ".py",
   "mimetype": "text/x-python",
   "name": "python",
   "nbconvert_exporter": "python",
   "pygments_lexer": "ipython3",
   "version": "3.7.3"
  }
 },
 "nbformat": 4,
 "nbformat_minor": 5
}
