{
 "cells": [
  {
   "cell_type": "markdown",
   "id": "3896dc6e",
   "metadata": {},
   "source": [
    "Copyright 2021, https://github.com/inactivitytimeout\n",
    "\n",
    "This program is free software: you can redistribute it and/or modify\n",
    "it under the terms of the GNU General Public License as published by\n",
    "the Free Software Foundation, either version 3 of the License, or\n",
    "(at your option) any later version.\n",
    "\n",
    "This program is distributed in the hope that it will be useful,\n",
    "but WITHOUT ANY WARRANTY; without even the implied warranty of\n",
    "MERCHANTABILITY or FITNESS FOR A PARTICULAR PURPOSE.  See the\n",
    "GNU General Public License for more details.\n",
    "\n",
    "You should have received a copy of the GNU General Public License\n",
    "along with this program.  If not, see <https://www.gnu.org/licenses/>."
   ]
  },
  {
   "cell_type": "markdown",
   "id": "a5aa2339",
   "metadata": {},
   "source": [
    "# Motor And Headlight Control Example\n",
    "\n",
    "This notebook demonstrates how to send motor control commands to move the car around."
   ]
  },
  {
   "cell_type": "markdown",
   "id": "16683a89",
   "metadata": {},
   "source": [
    "![](./assets/motor_control_block_diagram.png)"
   ]
  },
  {
   "cell_type": "code",
   "execution_count": 1,
   "id": "75237eb4",
   "metadata": {},
   "outputs": [],
   "source": [
    "import time\n",
    "from smbus2 import SMBus"
   ]
  },
  {
   "cell_type": "code",
   "execution_count": 6,
   "id": "b52c671c",
   "metadata": {},
   "outputs": [],
   "source": [
    "# Initialize\n",
    "\n",
    "# Use /dev/i2c1\n",
    "I2C_BUS = SMBus(1)\n",
    "\n",
    "I2C_ADDRESS = 0x18\n",
    "I2C_COMMAND = 0xff\n",
    "\n",
    "# Motor\n",
    "I2C_STOP     = 0x210A\n",
    "I2C_FORWARD  = 0x220A\n",
    "I2C_BACKWARD = 0x230A\n",
    "I2C_LEFT     = 0x240A\n",
    "I2C_RIGHT    = 0x250A\n",
    "\n",
    "I2C_LEFT_SPEED_SLOW  = 0x2605\n",
    "I2C_LEFT_SPEED_FAST  = 0x260A\n",
    "I2C_RIGHT_SPEED_SLOW = 0x2705\n",
    "I2C_RIGHT_SPEED_FAST = 0x270A\n",
    "\n",
    "\n",
    "I2C_HEADLIGHT_LEFT_OFF  = 0x3600\n",
    "I2C_HEADLIGHT_LEFT_ON   = 0x3601\n",
    "I2C_HEADLIGHT_RIGHT_OFF = 0x3700\n",
    "I2C_HEADLIGHT_RIGHT_ON  = 0x3701"
   ]
  },
  {
   "cell_type": "code",
   "execution_count": 9,
   "id": "2c28ed11",
   "metadata": {},
   "outputs": [],
   "source": [
    "# Initialize speed to fast before we start moving around\n",
    "I2C_BUS.write_word_data(I2C_ADDRESS, I2C_COMMAND, I2C_LEFT_SPEED_FAST)\n",
    "time.sleep(0.01)\n",
    "I2C_BUS.write_word_data(I2C_ADDRESS, I2C_COMMAND, I2C_RIGHT_SPEED_FAST)\n",
    "time.sleep(0.01)"
   ]
  },
  {
   "cell_type": "code",
   "execution_count": 10,
   "id": "9e7d817c",
   "metadata": {},
   "outputs": [],
   "source": [
    "# Move car forward then stop\n",
    "I2C_BUS.write_word_data(I2C_ADDRESS, I2C_COMMAND, I2C_FORWARD)\n",
    "time.sleep(0.5)\n",
    "I2C_BUS.write_word_data(I2C_ADDRESS, I2C_COMMAND, I2C_STOP)\n",
    "time.sleep(0.01)"
   ]
  },
  {
   "cell_type": "code",
   "execution_count": 11,
   "id": "7c7dcd3f",
   "metadata": {},
   "outputs": [],
   "source": [
    "# Slowly turn in a circle - left then right\n",
    "I2C_BUS.write_word_data(I2C_ADDRESS, I2C_COMMAND, I2C_LEFT_SPEED_SLOW)\n",
    "time.sleep(0.01)\n",
    "I2C_BUS.write_word_data(I2C_ADDRESS, I2C_COMMAND, I2C_RIGHT_SPEED_SLOW)\n",
    "time.sleep(0.01)\n",
    "I2C_BUS.write_word_data(I2C_ADDRESS, I2C_COMMAND, I2C_LEFT)\n",
    "time.sleep(2)\n",
    "I2C_BUS.write_word_data(I2C_ADDRESS, I2C_COMMAND, I2C_RIGHT)\n",
    "time.sleep(2)\n",
    "I2C_BUS.write_word_data(I2C_ADDRESS, I2C_COMMAND, I2C_STOP)\n",
    "time.sleep(0.01)"
   ]
  },
  {
   "cell_type": "code",
   "execution_count": 12,
   "id": "3a53c7e4",
   "metadata": {},
   "outputs": [],
   "source": [
    "# Move car backward then stop\n",
    "I2C_BUS.write_word_data(I2C_ADDRESS, I2C_COMMAND, I2C_BACKWARD)\n",
    "time.sleep(0.5)\n",
    "I2C_BUS.write_word_data(I2C_ADDRESS, I2C_COMMAND, I2C_STOP)\n",
    "time.sleep(0.01)"
   ]
  },
  {
   "cell_type": "code",
   "execution_count": 13,
   "id": "96f15e72",
   "metadata": {},
   "outputs": [],
   "source": [
    "# Flash the headlights on and off\n",
    "for i in range(10):\n",
    "    I2C_BUS.write_word_data(I2C_ADDRESS, I2C_COMMAND, I2C_HEADLIGHT_LEFT_ON)\n",
    "    time.sleep(0.01)\n",
    "    I2C_BUS.write_word_data(I2C_ADDRESS, I2C_COMMAND, I2C_HEADLIGHT_RIGHT_ON)\n",
    "    time.sleep(0.25)\n",
    "    I2C_BUS.write_word_data(I2C_ADDRESS, I2C_COMMAND, I2C_HEADLIGHT_LEFT_OFF)\n",
    "    time.sleep(0.01)\n",
    "    I2C_BUS.write_word_data(I2C_ADDRESS, I2C_COMMAND, I2C_HEADLIGHT_RIGHT_OFF)\n",
    "    time.sleep(0.25)"
   ]
  }
 ],
 "metadata": {
  "kernelspec": {
   "display_name": "Python 3 (ipykernel)",
   "language": "python",
   "name": "python3"
  },
  "language_info": {
   "codemirror_mode": {
    "name": "ipython",
    "version": 3
   },
   "file_extension": ".py",
   "mimetype": "text/x-python",
   "name": "python",
   "nbconvert_exporter": "python",
   "pygments_lexer": "ipython3",
   "version": "3.7.3"
  }
 },
 "nbformat": 4,
 "nbformat_minor": 5
}
