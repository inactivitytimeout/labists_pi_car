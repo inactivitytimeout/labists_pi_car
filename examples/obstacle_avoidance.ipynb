{
 "cells": [
  {
   "cell_type": "markdown",
   "id": "5fee41a1",
   "metadata": {},
   "source": [
    "Copyright 2021, https://github.com/inactivitytimeout\n",
    "\n",
    "This program is free software: you can redistribute it and/or modify\n",
    "it under the terms of the GNU General Public License as published by\n",
    "the Free Software Foundation, either version 3 of the License, or\n",
    "(at your option) any later version.\n",
    "\n",
    "This program is distributed in the hope that it will be useful,\n",
    "but WITHOUT ANY WARRANTY; without even the implied warranty of\n",
    "MERCHANTABILITY or FITNESS FOR A PARTICULAR PURPOSE.  See the\n",
    "GNU General Public License for more details.\n",
    "\n",
    "You should have received a copy of the GNU General Public License\n",
    "along with this program.  If not, see <https://www.gnu.org/licenses/>."
   ]
  },
  {
   "cell_type": "markdown",
   "id": "b32bab17",
   "metadata": {},
   "source": [
    "# Obstacle Avoidance Example\n",
    "\n",
    "This notebook demonstrates how to move forward, and stop when an obstacle is detected."
   ]
  },
  {
   "cell_type": "code",
   "execution_count": 1,
   "id": "75d6765f",
   "metadata": {},
   "outputs": [],
   "source": [
    "import RPi.GPIO as GPIO\n",
    "from smbus2 import SMBus\n",
    "import time\n",
    "import threading"
   ]
  },
  {
   "cell_type": "code",
   "execution_count": 2,
   "id": "776c5627",
   "metadata": {},
   "outputs": [],
   "source": [
    "# Uncomment to silence channel already in use warning\n",
    "# GPIO.setwarnings(False)\n",
    "\n",
    "# GPIO.BCM specifiesBroadcom chip pin numbers. \n",
    "GPIO.setmode(GPIO.BCM)\n",
    "\n",
    "GPIO_ECHO = 5   # INPUT\n",
    "GPIO_TRIG = 6   # OUTPUT"
   ]
  },
  {
   "cell_type": "code",
   "execution_count": 3,
   "id": "ebb35054",
   "metadata": {},
   "outputs": [],
   "source": [
    "# Set up the OUTPUT pin. This transmits a trigger pulse.\n",
    "GPIO.setup(GPIO_TRIG, GPIO.OUT, initial=1)\n",
    "GPIO.output(GPIO_TRIG,1)\n",
    "time.sleep(0.01)\n",
    "GPIO.output(GPIO_TRIG,0)\n",
    "time.sleep(0.01)"
   ]
  },
  {
   "cell_type": "code",
   "execution_count": 4,
   "id": "85ceb2f7",
   "metadata": {},
   "outputs": [],
   "source": [
    "# Set up the INPUT pin. This listens for the return \"echo\"\n",
    "GPIO.setup(GPIO_ECHO, GPIO.IN)"
   ]
  },
  {
   "cell_type": "code",
   "execution_count": 5,
   "id": "af0983d2",
   "metadata": {},
   "outputs": [],
   "source": [
    "SPEED_OF_SOUND_INCHES_PER_SEC = 1125.3 * 12.0\n",
    "\n",
    "def get_distance():\n",
    "    distance = 0.0\n",
    "    ITERATION_COUNT = 1\n",
    "    for i in range(ITERATION_COUNT):\n",
    "        pulse_start = None\n",
    "        pulse_end = None\n",
    "        pulse_width = 0.0\n",
    "        \n",
    "        time.sleep(0.00001)\n",
    "        GPIO.output(GPIO_TRIG, 1)\n",
    "        time.sleep(0.00001)\n",
    "        GPIO.output(GPIO_TRIG, 0)\n",
    "\n",
    "        while GPIO.input(GPIO_ECHO) == 0:\n",
    "            pulse_start = time.time()\n",
    "\n",
    "        if pulse_start:\n",
    "            while GPIO.input(GPIO_ECHO) == 1:\n",
    "                pulse_end = time.time()\n",
    "\n",
    "            pulse_width = pulse_end - pulse_start\n",
    "            distance += (pulse_width / 2.0) * SPEED_OF_SOUND_INCHES_PER_SEC\n",
    "            \n",
    "    distance /= ITERATION_COUNT\n",
    "    return distance"
   ]
  },
  {
   "cell_type": "code",
   "execution_count": 7,
   "id": "b14cbfb6",
   "metadata": {},
   "outputs": [],
   "source": [
    "# Use /dev/i2c1\n",
    "I2C_BUS = SMBus(1)\n",
    "\n",
    "I2C_ADDRESS = 0x18\n",
    "I2C_COMMAND = 0xff\n",
    "\n",
    "# Motor\n",
    "I2C_STOP     = 0x210A\n",
    "I2C_FORWARD  = 0x220A\n",
    "I2C_BACKWARD = 0x230A\n",
    "I2C_LEFT     = 0x240A\n",
    "I2C_RIGHT    = 0x250A\n",
    "\n",
    "I2C_LEFT_SPEED_SLOW  = 0x2605\n",
    "I2C_LEFT_SPEED_FAST  = 0x260A\n",
    "I2C_RIGHT_SPEED_SLOW = 0x2705\n",
    "I2C_RIGHT_SPEED_FAST = 0x270A\n",
    "\n",
    "I2C_HEADLIGHT_LEFT_OFF  = 0x3600\n",
    "I2C_HEADLIGHT_LEFT_ON   = 0x3601\n",
    "I2C_HEADLIGHT_RIGHT_OFF = 0x3700\n",
    "I2C_HEADLIGHT_RIGHT_ON  = 0x3701"
   ]
  },
  {
   "cell_type": "code",
   "execution_count": 8,
   "id": "599a1b29",
   "metadata": {},
   "outputs": [],
   "source": [
    "# Initialize speed to fast before we start moving around\n",
    "I2C_BUS.write_word_data(I2C_ADDRESS, I2C_COMMAND, I2C_LEFT_SPEED_FAST)\n",
    "time.sleep(0.01)\n",
    "I2C_BUS.write_word_data(I2C_ADDRESS, I2C_COMMAND, I2C_RIGHT_SPEED_FAST)\n",
    "time.sleep(0.01)"
   ]
  },
  {
   "cell_type": "code",
   "execution_count": 9,
   "id": "4339b04c",
   "metadata": {},
   "outputs": [
    {
     "name": "stdout",
     "output_type": "stream",
     "text": [
      "forward: distance 45.63010282516479\n",
      "forward: distance 45.95688300132751\n",
      "forward: distance 43.931811761856075\n",
      "forward: distance 43.588934040069574\n",
      "forward: distance 41.254789924621576\n",
      "forward: distance 39.65469388961792\n",
      "forward: distance 37.78576884269714\n",
      "forward: distance 36.43357501029968\n",
      "forward: distance 34.315138006210326\n",
      "forward: distance 31.568896722793575\n",
      "forward: distance 30.366410064697263\n",
      "forward: distance 28.07411956787109\n",
      "forward: distance 26.717096471786498\n",
      "forward: distance 24.828854370117185\n",
      "forward: distance 23.39456305503845\n",
      "forward: distance 21.034662866592406\n",
      "forward: distance 19.329932785034178\n",
      "forward: distance 17.3515444278717\n",
      "forward: distance 16.121691942214966\n",
      "forward: distance 14.062815856933593\n",
      "forward: distance 12.192281055450438\n",
      "forward: distance 10.6050630569458\n",
      "forward: distance 9.87423448562622\n",
      "forward: distance 7.802480363845825\n",
      "forward: distance 8.332089614868163\n",
      "forward: distance 9.813063812255859\n",
      "reverse: distance 5.283214473724365\n",
      "reverse: distance 6.1122380733489985\n",
      "reverse: distance 27.09377903938293\n",
      "reverse: distance 6.923554372787475\n",
      "reverse: distance 8.145358085632324\n",
      "reverse: distance 8.122821521759032\n",
      "reverse: distance 12.620475769042967\n",
      "reverse: distance 10.048087978363036\n",
      "reverse: distance 10.93828225135803\n",
      "reverse: distance 12.75086588859558\n",
      "reverse: distance 14.241498613357543\n",
      "reverse: distance 15.925301885604856\n",
      "reverse: distance 17.441690683364865\n",
      "reverse: distance 19.3138352394104\n",
      "reverse: distance 21.628662300109863\n",
      "reverse: distance 23.09836821556091\n",
      "reverse: distance 25.26831736564636\n",
      "reverse: distance 26.956949901580806\n",
      "reverse: distance 28.141729259490965\n",
      "reverse: distance 29.973629951477047\n",
      "reverse: distance 31.4433358669281\n",
      "reverse: distance 33.12230987548828\n",
      "reverse: distance 35.47899055480956\n",
      "reverse: distance 37.566842222213744\n",
      "reverse: distance 38.71298747062683\n",
      "reverse: distance 40.61410760879516\n",
      "reverse: distance 42.322057199478145\n"
     ]
    }
   ],
   "source": [
    "# Move car forward then stop when obstacle is in the way \n",
    "# When obstacle is detected, move backward - back to the starting point\n",
    "\n",
    "start_time = time.time()\n",
    "forward_duration = 0.0\n",
    "distance = get_distance()\n",
    "initial_distance = distance\n",
    "\n",
    "while distance > 6.0 and forward_duration < 10.0:\n",
    "    print(\"forward: distance\", distance)\n",
    "    I2C_BUS.write_word_data(I2C_ADDRESS, I2C_COMMAND, I2C_FORWARD)\n",
    "    time.sleep(0.05)\n",
    "    I2C_BUS.write_word_data(I2C_ADDRESS, I2C_COMMAND, I2C_STOP)\n",
    "    time.sleep(0.05)\n",
    "    forward_duration = time.time() - start_time\n",
    "    distance = get_distance()\n",
    "\n",
    "start_time = time.time()\n",
    "reverse_duration = 0.0\n",
    "distance = get_distance()\n",
    "while distance < initial_distance and reverse_duration < forward_duration:\n",
    "    print(\"reverse: distance\", distance)\n",
    "    I2C_BUS.write_word_data(I2C_ADDRESS, I2C_COMMAND, I2C_BACKWARD)\n",
    "    time.sleep(0.05)\n",
    "    I2C_BUS.write_word_data(I2C_ADDRESS, I2C_COMMAND, I2C_STOP)\n",
    "    time.sleep(0.05)\n",
    "    reverse_duration = time.time() - start_time\n",
    "    distance = get_distance()\n"
   ]
  },
  {
   "cell_type": "code",
   "execution_count": 10,
   "id": "56bfd332",
   "metadata": {},
   "outputs": [],
   "source": [
    "GPIO.cleanup()"
   ]
  }
 ],
 "metadata": {
  "kernelspec": {
   "display_name": "Python 3 (ipykernel)",
   "language": "python",
   "name": "python3"
  },
  "language_info": {
   "codemirror_mode": {
    "name": "ipython",
    "version": 3
   },
   "file_extension": ".py",
   "mimetype": "text/x-python",
   "name": "python",
   "nbconvert_exporter": "python",
   "pygments_lexer": "ipython3",
   "version": "3.7.3"
  }
 },
 "nbformat": 4,
 "nbformat_minor": 5
}
